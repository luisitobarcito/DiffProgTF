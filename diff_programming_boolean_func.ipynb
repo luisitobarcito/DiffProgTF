{
  "nbformat": 4,
  "nbformat_minor": 0,
  "metadata": {
    "colab": {
      "name": "Copy of diff_programming_boolean_func.ipynb",
      "version": "0.3.2",
      "provenance": [],
      "collapsed_sections": [],
      "include_colab_link": true
    },
    "kernelspec": {
      "name": "python3",
      "display_name": "Python 3"
    }
  },
  "cells": [
    {
      "cell_type": "markdown",
      "metadata": {
        "id": "view-in-github",
        "colab_type": "text"
      },
      "source": [
        "<a href=\"https://colab.research.google.com/github/luisitobarcito/DiffProgTF/blob/master/diff_programming_boolean_func.ipynb\" target=\"_parent\"><img src=\"https://colab.research.google.com/assets/colab-badge.svg\" alt=\"Open In Colab\"/></a>"
      ]
    },
    {
      "metadata": {
        "id": "oeB8Dyg91NbB",
        "colab_type": "code",
        "colab": {}
      },
      "cell_type": "code",
      "source": [
        "%matplotlib inline \n",
        "\n",
        "import tensorflow as tf \n",
        "import numpy as np\n",
        "import matplotlib.pyplot as plt"
      ],
      "execution_count": 0,
      "outputs": []
    },
    {
      "metadata": {
        "id": "mxSBaQsC1y59",
        "colab_type": "text"
      },
      "cell_type": "markdown",
      "source": [
        "# Learning  Boolean functions by example.\n",
        "Even though this might look like an overkill, it will be helpful to explain the concept of learning by example and the modular perspective. Let's say we want to learn two basic functions: the AND, and the OR functions."
      ]
    },
    {
      "metadata": {
        "id": "HsITzume1_Za",
        "colab_type": "text"
      },
      "cell_type": "markdown",
      "source": [
        "## Define a generic tuneable function.\n",
        "Our generic parameterized function module will model binary input to binary output vectors. Rather than producing binary digits, the generic function can output a real number between o and 1. These outputs can be interpreted as the probability of the output being 1, which also correspond to the expected value of the output under the Bernoulli distribution. Our function corresponds to a affine function followed by a squashing nonlinearlity such the logistic sigmoid.\n",
        "\\begin{equation}\n",
        "f(x) = \\sigma(Wx + b)\n",
        "\\end{equation}\n",
        "where $\\sigma(z) = 1/(1+e^{-z})$."
      ]
    },
    {
      "metadata": {
        "id": "zJHpqATI2Dsq",
        "colab_type": "code",
        "colab": {}
      },
      "cell_type": "code",
      "source": [
        "class GenFunc(object):\n",
        "    def __init__(self, n_in, n_out=1, act_func=None):\n",
        "        self.W = tf.Variable(tf.random_normal([n_in, n_out], stddev=0.35), dtype=tf.float32)\n",
        "        self.b = tf.Variable(tf.zeros([n_out], dtype=tf.float32), dtype=tf.float32)\n",
        "        if act_func is None:\n",
        "            self.act_func = tf.sigmoid\n",
        "        else:\n",
        "            self.act_func = act_func\n",
        "\n",
        "    def __call__(self, X, is_logit=False):\n",
        "        # For numerical stability, We can select logit output \n",
        "        # to train the function with cross-entropy \n",
        "        if is_logit is False:\n",
        "            return self.act_func(tf.add(tf.matmul(X, self.W), self.b))\n",
        "        else:\n",
        "            return tf.add(tf.matmul(X, self.W), self.b)\n"
      ],
      "execution_count": 0,
      "outputs": []
    },
    {
      "metadata": {
        "id": "3Rnx-83u2Q5R",
        "colab_type": "text"
      },
      "cell_type": "markdown",
      "source": [
        "## Define a differentiable objective\n",
        "We use cross entropy function to evaluate the match of the output produced by our tunable function and the desired output of our program. In the context of binary digits and our tunable function representing the probability of being 1, the cross entropy function is also a likelihood function of the parameters given the desired input output data.\n"
      ]
    },
    {
      "metadata": {
        "id": "oor9cV5g2SBA",
        "colab_type": "code",
        "colab": {}
      },
      "cell_type": "code",
      "source": [
        "def learnProgram(sess, f, train_in, train_out, n_iter=10000):\n",
        "    X = tf.placeholder(shape=train_in.shape, dtype=tf.float32)\n",
        "    Y = tf.placeholder(shape=train_out.shape, dtype=tf.float32)      \n",
        "    ## The cross entropy loss applied to the function to be tuned\n",
        "    loss = tf.reduce_mean(tf.nn.sigmoid_cross_entropy_with_logits(labels=Y, logits=f(X, is_logit=True)))\n",
        "    ## Training procedure\n",
        "    trainer = tf.train.GradientDescentOptimizer(learning_rate=0.2)\n",
        "    train_step = trainer.minimize(loss)\n",
        "    tf.global_variables_initializer().run()\n",
        "    for iTr in range(n_iter):\n",
        "        sess.run(train_step, feed_dict={X: train_in, Y: train_out})"
      ],
      "execution_count": 0,
      "outputs": []
    },
    {
      "metadata": {
        "id": "dxp_vQLa2b6W",
        "colab_type": "text"
      },
      "cell_type": "markdown",
      "source": [
        "## The OR function\n",
        "The data for the OR function is given by the following truth table:\n",
        "\n",
        "| X1 | X2 | X1 OR X2 |\n",
        "|----|:--:|:--------:|\n",
        "| 0  | 0  |    0     |\n",
        "| 0  | 1  |    1     |\n",
        "| 1  | 0  |    1     |\n",
        "| 1  | 1  |    1     |\n"
      ]
    },
    {
      "metadata": {
        "id": "oeNlF8-F2gh5",
        "colab_type": "code",
        "outputId": "76f4fbb1-b089-45aa-9178-e3f63af65a54",
        "colab": {
          "base_uri": "https://localhost:8080/",
          "height": 127
        }
      },
      "cell_type": "code",
      "source": [
        "## Create our set of input output pairs\n",
        "X = np.asarray([[0, 0],[0, 1],[1, 0],[1, 1]], dtype=np.float32)\n",
        "Y_or = np.asarray([0, 1, 1, 1], dtype=np.float32)[:,None]\n",
        "## Let's display our set of input output pairs\n",
        "from tabulate import tabulate\n",
        "print(tabulate (np.concatenate((X,Y_or), axis=1), headers=['X1','X2', 'X1 OR X2']))"
      ],
      "execution_count": 0,
      "outputs": [
        {
          "output_type": "stream",
          "text": [
            "  X1    X2    X1 OR X2\n",
            "----  ----  ----------\n",
            "   0     0           0\n",
            "   0     1           1\n",
            "   1     0           1\n",
            "   1     1           1\n"
          ],
          "name": "stdout"
        }
      ]
    },
    {
      "metadata": {
        "id": "wC8pJqR428wf",
        "colab_type": "code",
        "outputId": "d7a4d68d-905d-4770-c26f-dd22836976f5",
        "colab": {
          "base_uri": "https://localhost:8080/",
          "height": 127
        }
      },
      "cell_type": "code",
      "source": [
        "## Instantiate a tuneable function \n",
        "F = GenFunc(2, 1)\n",
        "## call the tuning routine  within a TF session\n",
        "with tf.Session() as sess:\n",
        "    learnProgram(sess, F, X, Y_or)\n",
        "    ## display the outputs of the function after tuning\n",
        "    Z = F(X).eval()\n",
        "    print(tabulate(np.concatenate((X,Z), axis=1), headers=['X1','X2', 'F(X)']))"
      ],
      "execution_count": 0,
      "outputs": [
        {
          "output_type": "stream",
          "text": [
            "  X1    X2       F(X)\n",
            "----  ----  ---------\n",
            "   0     0  0.0101643\n",
            "   0     1  0.995937\n",
            "   1     0  0.995937\n",
            "   1     1  1\n"
          ],
          "name": "stdout"
        }
      ]
    },
    {
      "metadata": {
        "id": "W-6HfVpC3Xt7",
        "colab_type": "text"
      },
      "cell_type": "markdown",
      "source": [
        "## The AND function\n",
        "The data for the AND function is given by the following truth table:\n",
        "\n",
        "| X1 | X2 | X1 AND X2 |\n",
        "|----|:--:|:---------:|\n",
        "| 0  | 0  |    0      |\n",
        "| 0  | 1  |    0      |\n",
        "| 1  | 0  |    0      |\n",
        "| 1  | 1  |    1      |"
      ]
    },
    {
      "metadata": {
        "id": "R-uDorH63bhN",
        "colab_type": "code",
        "outputId": "46e35e7d-942a-414e-9278-81f1fc6efe12",
        "colab": {
          "base_uri": "https://localhost:8080/",
          "height": 127
        }
      },
      "cell_type": "code",
      "source": [
        "Y_and = np.asarray([0, 0, 0, 1], dtype=np.float32)[:,None]\n",
        "F = GenFunc(2, 1)\n",
        "with tf.Session() as sess:\n",
        "    learnProgram(sess, F, X, Y_and)\n",
        "    Z = F(X).eval()\n",
        "    print (tabulate(np.concatenate((X,Z), axis=1), headers=['X1','X2', 'F(X)']))"
      ],
      "execution_count": 0,
      "outputs": [
        {
          "output_type": "stream",
          "text": [
            "  X1    X2         F(X)\n",
            "----  ----  -----------\n",
            "   0     0  1.51307e-06\n",
            "   0     1  0.0101437\n",
            "   1     0  0.0101437\n",
            "   1     1  0.985796\n"
          ],
          "name": "stdout"
        }
      ]
    },
    {
      "metadata": {
        "id": "EfARwIE13lAk",
        "colab_type": "text"
      },
      "cell_type": "markdown",
      "source": [
        "## The XOR function\n",
        "The data for the XOR function is given by the following truth table:\n",
        "\n",
        "| X1 | X2 | X1 XOR X2 |\n",
        "|----|:--:|:---------:|\n",
        "| 0  | 0  |    0      |\n",
        "| 0  | 1  |    1      |\n",
        "| 1  | 0  |    1      |\n",
        "| 1  | 1  |    0      |\n"
      ]
    },
    {
      "metadata": {
        "id": "LGqB6UTO3mUJ",
        "colab_type": "code",
        "outputId": "266cc0b6-b81b-41cd-acca-18688c8ed534",
        "colab": {
          "base_uri": "https://localhost:8080/",
          "height": 127
        }
      },
      "cell_type": "code",
      "source": [
        "Y_xor = np.asarray([0, 1, 1, 0], dtype=np.float32)[:,None]\n",
        "F = GenFunc(2, 1)\n",
        "with tf.Session() as sess:\n",
        "    learnProgram(sess, F, X, Y_xor)\n",
        "    Z = F(X).eval()\n",
        "    print (tabulate(np.concatenate((X,Z), axis=1), headers=['X1','X2', 'F(X)']))"
      ],
      "execution_count": 0,
      "outputs": [
        {
          "output_type": "stream",
          "text": [
            "  X1    X2    F(X)\n",
            "----  ----  ------\n",
            "   0     0     0.5\n",
            "   0     1     0.5\n",
            "   1     0     0.5\n",
            "   1     1     0.5\n"
          ],
          "name": "stdout"
        }
      ]
    },
    {
      "metadata": {
        "id": "VhghvRUA3xaQ",
        "colab_type": "text"
      },
      "cell_type": "markdown",
      "source": [
        "### What happened?\n",
        "Note that for the XOR the function tuning did not succed in replicating the input output relation.\n",
        "It turns out that our tunable function can only represent a subset of all binary functions. \n",
        "### Composing tunable modules to increase the expresivity\n",
        "Fortunately, our tunable function does represent the basic Boolean functions. Compositions of basic Boolean functions can give us all Boolean functions from 2 inputs to 1 output.  "
      ]
    },
    {
      "metadata": {
        "id": "Y0nvhNHN36qx",
        "colab_type": "code",
        "outputId": "fff736f5-0f94-4cfe-b451-776d3daad096",
        "colab": {
          "base_uri": "https://localhost:8080/",
          "height": 605
        }
      },
      "cell_type": "code",
      "source": [
        "F1 = GenFunc(2, 1)\n",
        "F2 = GenFunc(2, 1)\n",
        "F3 = GenFunc(2, 1)\n",
        "## Define a composition of tunable functions\n",
        "def G(X, is_logit=False):\n",
        "    Z1 = F1(X)\n",
        "    Z2 = F2(X)\n",
        "    Z3 = F3(tf.concat((Z1, Z2), axis=1), is_logit=is_logit)\n",
        "    return Z3\n",
        "\n",
        "with tf.Session() as sess:\n",
        "    learnProgram(sess, G, X, Y_xor)\n",
        "    ## Show the tuned composition of functions G(X)\n",
        "    Z = G(X).eval()\n",
        "    print(\"\\n Tuned composition\")\n",
        "    print (tabulate(np.concatenate((X,Z), axis=1), headers=['X1','X2', 'G(X)']))\n",
        "    ## Show the tuned module F1(X)\n",
        "    Z1 = F1(X).eval()\n",
        "    print(\"\\n Tuned input module F1\")\n",
        "    print( tabulate(np.concatenate((X,Z1), axis=1), headers=['X1','X2', 'F1(X)']))\n",
        "    ## Show the tuned module F2(X)\n",
        "    Z2 = F2(X).eval()\n",
        "    print(\"\\n Tuned input module F2\")\n",
        "    print( tabulate(np.concatenate((X,Z2), axis=1), headers=['X1','X2', 'F2(X)']))\n",
        "    ## Show the intermediate tuned module F3(X)\n",
        "    print(\"\\n Tuned intermediate module F3\")\n",
        "    Z3 = F3(X).eval()\n",
        "    print( tabulate(np.concatenate((X,Z3), axis=1), headers=['Z1','Z2', 'F3(Z)']))\n",
        "   \n",
        "sess.close()"
      ],
      "execution_count": 0,
      "outputs": [
        {
          "output_type": "stream",
          "text": [
            "\n",
            " Tuned composition\n",
            "  X1    X2        G(X)\n",
            "----  ----  ----------\n",
            "   0     0  0.00826791\n",
            "   0     1  0.988798\n",
            "   1     0  0.992494\n",
            "   1     1  0.00702719\n",
            "\n",
            " Tuned input module F1\n",
            "  X1    X2        F1(X)\n",
            "----  ----  -----------\n",
            "   0     0  0.0319412\n",
            "   0     1  4.64444e-05\n",
            "   1     0  0.950382\n",
            "   1     1  0.0262545\n",
            "\n",
            " Tuned input module F2\n",
            "  X1    X2      F2(X)\n",
            "----  ----  ---------\n",
            "   0     0  0.95726\n",
            "   0     1  0.0419264\n",
            "   1     0  0.999933\n",
            "   1     1  0.966889\n",
            "\n",
            " Tuned intermediate module F3\n",
            "  Z1    Z2       F3(Z)\n",
            "----  ----  ----------\n",
            "   0     0  0.992757\n",
            "   0     1  0.00372795\n",
            "   1     0  1\n",
            "   1     1  0.995639\n"
          ],
          "name": "stdout"
        }
      ]
    }
  ]
}